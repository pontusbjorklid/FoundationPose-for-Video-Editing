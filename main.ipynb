{
 "cells": [
  {
   "cell_type": "markdown",
   "metadata": {},
   "source": [
    "# AFM Practical - Video Editing and AR\n",
    "\n",
    "This is the main notebook that can be used to edit videos the way we showed in our presentation or on our github README. Make sure to first execute all of the other steps mentioned in our README before using this notebook."
   ]
  },
  {
   "cell_type": "code",
   "execution_count": 1,
   "metadata": {},
   "outputs": [],
   "source": [
    "### IMPORTS ###\n",
    "import src.helpers as helpers # In case this is not found, adjust python path\n",
    "import src.occlusion as occlusion\n",
    "import src.overlay as overlay\n",
    "import src.rendering as rendering\n",
    "import matplotlib.pyplot as plt\n",
    "import numpy as np\n",
    "import os"
   ]
  },
  {
   "cell_type": "markdown",
   "metadata": {},
   "source": [
    "### Rendering\n",
    "Execute the following cell to render images of the new object from the given poses. Specify the paths to your ob-in-cam/ folder (the one containing the FoundationPose output) and the 3D model you want to insert. Also if you are not using the Intel Realsense 455, make sure to change the camera intrinsics in the function.\n",
    "\n",
    "If you have information about the light sources in your scene, you can specify the location of light sources increase your rendering quality. If you do not have such info just leave it as None, the scene will use ambient lighting then."
   ]
  },
  {
   "cell_type": "code",
   "execution_count": 8,
   "metadata": {},
   "outputs": [
    {
     "name": "stderr",
     "output_type": "stream",
     "text": [
      "Render Object for Frames:   0%|          | 0/443 [00:00<?, ?it/s]"
     ]
    },
    {
     "name": "stderr",
     "output_type": "stream",
     "text": [
      "Render Object for Frames: 100%|██████████| 443/443 [00:50<00:00,  8.72it/s]\n"
     ]
    }
   ],
   "source": [
    "pose_folder_path = \"/Users/jonevers/Downloads/ob_in_cam-4\"\n",
    "mesh_path = \"/Users/jonevers/Desktop/afm/foundpose_test/pistole_mesh/pistolemesh3.obj\"\n",
    "\n",
    "light_coordinates = None\n",
    "#light_coordinates = [np.zeros((3,))]\n",
    "\n",
    "rendered_images, rendered_depths = rendering.render_images_from_poses_with_lighting(pose_folder_path, mesh_path, light_coordinates)"
   ]
  },
  {
   "cell_type": "markdown",
   "metadata": {},
   "source": [
    "### Occlusion\n",
    "Execute the following cell to mask out occluded parts of the new object using the masks obtained from Track-Anything."
   ]
  },
  {
   "cell_type": "code",
   "execution_count": 9,
   "metadata": {},
   "outputs": [
    {
     "name": "stderr",
     "output_type": "stream",
     "text": [
      "Masking out occlusion: 100%|██████████| 443/443 [00:00<00:00, 620.78it/s]\n"
     ]
    }
   ],
   "source": [
    "occlusion_masks_path = \"/Users/jonevers/Downloads/gunrun-2\"\n",
    "masked_rendered_images, masked_rendered_depths = occlusion.mask_occluded_parts(occlusion_masks_path, rendered_images, rendered_depths)"
   ]
  },
  {
   "cell_type": "markdown",
   "metadata": {},
   "source": [
    "### Overlay\n",
    "Execute the following cell to insert the new object into the video by overlaying the rendered images of the object onto the original video frames. Specify the path to your rgb/ folder."
   ]
  },
  {
   "cell_type": "code",
   "execution_count": 10,
   "metadata": {},
   "outputs": [
    {
     "name": "stderr",
     "output_type": "stream",
     "text": [
      "Overlay images: 100%|██████████| 443/443 [00:04<00:00, 109.09it/s]\n"
     ]
    }
   ],
   "source": [
    "background_img_folder = \"/Users/jonevers/Downloads/rgb-6\"\n",
    "modified_video = overlay.overlay_object(background_img_folder, masked_rendered_images, masked_rendered_depths)"
   ]
  },
  {
   "cell_type": "markdown",
   "metadata": {},
   "source": [
    "### Get Result\n",
    "Execute the following cell obtain your result by converting the numpy video to mp4. Specify the path to your result."
   ]
  },
  {
   "cell_type": "code",
   "execution_count": 11,
   "metadata": {},
   "outputs": [],
   "source": [
    "result_path = \"/Users/jonevers/Desktop/gun_run.mp4\"\n",
    "helpers.images_to_video(modified_video, result_path, fps=30)"
   ]
  }
 ],
 "metadata": {
  "kernelspec": {
   "display_name": "Python 3",
   "language": "python",
   "name": "python3"
  },
  "language_info": {
   "codemirror_mode": {
    "name": "ipython",
    "version": 3
   },
   "file_extension": ".py",
   "mimetype": "text/x-python",
   "name": "python",
   "nbconvert_exporter": "python",
   "pygments_lexer": "ipython3",
   "version": "3.7.12"
  }
 },
 "nbformat": 4,
 "nbformat_minor": 2
}
